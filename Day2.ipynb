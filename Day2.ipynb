{
 "cells": [
  {
   "cell_type": "code",
   "execution_count": null,
   "metadata": {},
   "outputs": [],
   "source": [
    "\"\"\"\n",
    "WE'RE LEARNING PYTHON!\n",
    "\"\"\""
   ]
  },
  {
   "cell_type": "code",
   "execution_count": null,
   "metadata": {},
   "outputs": [],
   "source": [
    "# Our first print statement!\n",
    "\n",
    "print('the gender binary is wack')"
   ]
  },
  {
   "cell_type": "code",
   "execution_count": null,
   "metadata": {},
   "outputs": [],
   "source": [
    "# Doing simple math\n",
    "\n",
    "2 + 5"
   ]
  },
  {
   "cell_type": "code",
   "execution_count": null,
   "metadata": {},
   "outputs": [],
   "source": [
    "# Assigning variables, seeing that we can store different types of data (int and str + more) in variables\n",
    "\n",
    "message_one = \"the gender binary is wack\"\n",
    "message_two = \"this is science\"\n",
    "message_three = 4 + 5"
   ]
  },
  {
   "cell_type": "code",
   "execution_count": null,
   "metadata": {},
   "outputs": [],
   "source": [
    "# calling our variables for the first time to print what we stored in them. \n",
    "\n",
    "print(message_one)"
   ]
  },
  {
   "cell_type": "code",
   "execution_count": null,
   "metadata": {},
   "outputs": [],
   "source": [
    "print(message_three)"
   ]
  },
  {
   "cell_type": "code",
   "execution_count": null,
   "metadata": {},
   "outputs": [],
   "source": [
    "# Learning how to check the type of a variable\n",
    "\n",
    "type(message_one)"
   ]
  },
  {
   "cell_type": "code",
   "execution_count": null,
   "metadata": {},
   "outputs": [],
   "source": [
    "type(message_three)"
   ]
  },
  {
   "cell_type": "code",
   "execution_count": null,
   "metadata": {},
   "outputs": [],
   "source": [
    "\"\"\"\n",
    "DATA TYPES!\n",
    "\"\"\""
   ]
  },
  {
   "cell_type": "code",
   "execution_count": null,
   "metadata": {},
   "outputs": [],
   "source": [
    "# Learning about strings through examples\n",
    "\n",
    "string_variable_1 = \"crisis\"\n",
    "string_variable_2 = \"we're in a crisis\"\n",
    "string_variable_3 = \"make it           stop\""
   ]
  },
  {
   "cell_type": "code",
   "execution_count": null,
   "metadata": {},
   "outputs": [],
   "source": [
    "# seeing how they print\n",
    "\n",
    "print(string_variable_3)"
   ]
  },
  {
   "cell_type": "code",
   "execution_count": null,
   "metadata": {},
   "outputs": [],
   "source": [
    "# Learning about integers through examples\n",
    "# also seeing that variables can be composed of other variables\n",
    "\n",
    "int_variable_1 = 2\n",
    "int_variable_2 = 3 + 4 + 6\n",
    "int_variable_3 = int_variable_1 + int_variable_2"
   ]
  },
  {
   "cell_type": "code",
   "execution_count": null,
   "metadata": {},
   "outputs": [],
   "source": [
    "# using type() to verity that variable composed of variables is same type as those variables that compose it\n",
    "\n",
    "type(int_variable_3)"
   ]
  },
  {
   "cell_type": "code",
   "execution_count": null,
   "metadata": {},
   "outputs": [],
   "source": [
    "# Showing that the addition happens in the background\n",
    "\n",
    "print(int_variable_3)"
   ]
  },
  {
   "cell_type": "code",
   "execution_count": null,
   "metadata": {},
   "outputs": [],
   "source": [
    "# Learning About Lists\n",
    "\n",
    "list_variable_1 = [\"they\", \"them\", \"theirs\"]\n",
    "list_variable_2 = [\"she\", \"her\", \"hers\"]\n",
    "list_variable_3 = [\"he\", \"him\", \"his\", 25]"
   ]
  },
  {
   "cell_type": "code",
   "execution_count": null,
   "metadata": {},
   "outputs": [],
   "source": [
    "# Seeing what happens when we print them\n",
    "\n",
    "print(list_variable_1)"
   ]
  },
  {
   "cell_type": "code",
   "execution_count": null,
   "metadata": {},
   "outputs": [],
   "source": [
    "# Learning how to select items from a list\n",
    "# (also showing that indexing starts from zero)\n",
    "\n",
    "print(list_variable_2[1])"
   ]
  },
  {
   "cell_type": "code",
   "execution_count": null,
   "metadata": {},
   "outputs": [],
   "source": [
    "# Learning how to select a slice of a list\n",
    "\n",
    "list_variable_3[2:4]"
   ]
  },
  {
   "cell_type": "code",
   "execution_count": null,
   "metadata": {},
   "outputs": [],
   "source": [
    "# learning that we can select characters of strings in the same way\n",
    "\n",
    "string_variable_2[11:14]"
   ]
  },
  {
   "cell_type": "code",
   "execution_count": null,
   "metadata": {},
   "outputs": [],
   "source": [
    "# Learning about Dictionaries\n",
    "\n",
    "dict_variable_1 = {\"color 1\": \"blue\", \"color 2\": \"pink\", \"color 3\": \"white\", \"color 4\": \"pink\", \"color 5\": \"blue\"}\n",
    "dict_variable_2 = {\"color 1\": \"red\", \"color 2\": \"orange\", \"color 3\": \"yellow\", \"color 4\": \"green\", \"color 5\": \"blue\", \"color 6\": \"purple\"}\n",
    "dict_variable_3 = {\"color 1\": \"red\", \"color 2\": \"orange\", \"color 3\": \"white\", \"color 4\": \"pink\", \"color 5\": \"purple\"}"
   ]
  },
  {
   "cell_type": "code",
   "execution_count": null,
   "metadata": {},
   "outputs": [],
   "source": [
    "# Seeing what they look like when printed out\n",
    "\n",
    "print(dict_variable_1)"
   ]
  },
  {
   "cell_type": "code",
   "execution_count": null,
   "metadata": {},
   "outputs": [],
   "source": [
    "# Learning how to select specific items from a dict\n",
    "\n",
    "dict_variable_2[\"color 3\"]"
   ]
  },
  {
   "cell_type": "code",
   "execution_count": null,
   "metadata": {},
   "outputs": [],
   "source": [
    "\"\"\"\n",
    "LOOPS AND CONDITIONALS!\n",
    "\"\"\""
   ]
  },
  {
   "cell_type": "code",
   "execution_count": null,
   "metadata": {},
   "outputs": [],
   "source": [
    "# Learning how a loop looks in python, with a simple syntax to print everything. \n",
    "\n",
    "for item in list_variable_3:\n",
    "    print(item)"
   ]
  },
  {
   "cell_type": "code",
   "execution_count": null,
   "metadata": {},
   "outputs": [],
   "source": [
    "# Seeing that we can do a similar thing with strings\n",
    "\n",
    "for i in string_variable_3:\n",
    "    print(i)"
   ]
  },
  {
   "cell_type": "code",
   "execution_count": null,
   "metadata": {},
   "outputs": [],
   "source": [
    "# Learning how to take the results of our loop and store them in a list, rather than just printing them,\n",
    "# so that we can use them later\n",
    "\n",
    "list_from_str = []\n",
    "for i in string_variable_2:\n",
    "    list_from_str.append(i)"
   ]
  },
  {
   "cell_type": "code",
   "execution_count": null,
   "metadata": {},
   "outputs": [],
   "source": [
    "# Taking a look at that list we just made\n",
    "\n",
    "list_from_str"
   ]
  },
  {
   "cell_type": "code",
   "execution_count": null,
   "metadata": {},
   "outputs": [],
   "source": [
    "# Learning how to use a conditional statement to perform a logic check to dictate actions within a loop\n",
    "\n",
    "list_from_str = []\n",
    "for i in string_variable_2:\n",
    "    if i is \" \":\n",
    "        print(\"There's a space!\")\n",
    "    else:\n",
    "        list_from_str.append(i)"
   ]
  },
  {
   "cell_type": "code",
   "execution_count": null,
   "metadata": {},
   "outputs": [],
   "source": [
    "# Taking a look at the list we made this time\n",
    "\n",
    "list_from_str"
   ]
  },
  {
   "cell_type": "code",
   "execution_count": null,
   "metadata": {},
   "outputs": [],
   "source": [
    "\"\"\"\n",
    "DEFINING OUR OWN FUNCTIONS!\n",
    "\"\"\""
   ]
  },
  {
   "cell_type": "code",
   "execution_count": null,
   "metadata": {},
   "outputs": [],
   "source": [
    "# Showing the syntax for defining a function\n",
    "# Showing how to make a function that will do the same thing, everytime.\n",
    "\n",
    "def justice():\n",
    "    print(\"Black Lives Matter\")"
   ]
  },
  {
   "cell_type": "code",
   "execution_count": null,
   "metadata": {},
   "outputs": [],
   "source": [
    "# Learning how to call the function we just defined\n",
    "\n",
    "justice()"
   ]
  },
  {
   "cell_type": "code",
   "execution_count": null,
   "metadata": {},
   "outputs": [],
   "source": [
    "# Learning how to define a slightly more complicated function, one that takes inputs/arguments. \n",
    "# Also showing how to return a value, rather than just printing it\n",
    "\n",
    "def string_to_list(string):\n",
    "    list_from_str = []\n",
    "    for i in string:\n",
    "        if i is \" \":\n",
    "            continue\n",
    "        else:\n",
    "            list_from_str.append(i)\n",
    "    return list_from_str"
   ]
  },
  {
   "cell_type": "code",
   "execution_count": null,
   "metadata": {},
   "outputs": [],
   "source": [
    "# Calling our newly-created function\n",
    "\n",
    "string_to_list(string_variable_1)"
   ]
  },
  {
   "cell_type": "code",
   "execution_count": null,
   "metadata": {},
   "outputs": [],
   "source": [
    "string_to_list(string_variable_2)"
   ]
  },
  {
   "cell_type": "code",
   "execution_count": null,
   "metadata": {},
   "outputs": [],
   "source": [
    "# Demonstrating that our function will work on any string, not just our variables\n",
    "\n",
    "string_to_list(\"any dang string we please\")"
   ]
  },
  {
   "cell_type": "code",
   "execution_count": null,
   "metadata": {},
   "outputs": [],
   "source": [
    "\"\"\"\n",
    "END OF DAY !\n",
    "\"\"\"\n"
   ]
  },
  {
   "cell_type": "code",
   "execution_count": null,
   "metadata": {},
   "outputs": [],
   "source": []
  },
  {
   "cell_type": "code",
   "execution_count": null,
   "metadata": {},
   "outputs": [],
   "source": [
    "essential_text = \"We definitely want to remember the way in which communities need agency over their own histories!\""
   ]
  },
  {
   "cell_type": "code",
   "execution_count": null,
   "metadata": {},
   "outputs": [],
   "source": [
    "with open('essential.txt', 'w') as file:\n",
    "    file.write(essential_text)"
   ]
  },
  {
   "cell_type": "code",
   "execution_count": null,
   "metadata": {},
   "outputs": [],
   "source": [
    "with open('SampleText.txt', 'r') as file:\n",
    "    prop_six_four = file.read()"
   ]
  },
  {
   "cell_type": "code",
   "execution_count": null,
   "metadata": {},
   "outputs": [],
   "source": [
    "print(prop_six_four)"
   ]
  },
  {
   "cell_type": "code",
   "execution_count": null,
   "metadata": {},
   "outputs": [],
   "source": [
    "type(prop_six_four)"
   ]
  },
  {
   "cell_type": "code",
   "execution_count": null,
   "metadata": {},
   "outputs": [],
   "source": [
    "prop_list = prop_six_four.split(\" \")"
   ]
  },
  {
   "cell_type": "code",
   "execution_count": null,
   "metadata": {},
   "outputs": [],
   "source": [
    "print(prop_list)"
   ]
  },
  {
   "cell_type": "code",
   "execution_count": null,
   "metadata": {},
   "outputs": [],
   "source": [
    "import sys"
   ]
  },
  {
   "cell_type": "code",
   "execution_count": null,
   "metadata": {},
   "outputs": [],
   "source": [
    "!{sys.executable} -m pip install nltk"
   ]
  },
  {
   "cell_type": "code",
   "execution_count": null,
   "metadata": {},
   "outputs": [],
   "source": [
    "import nltk.downloader\n",
    "nltk.download('punkt')"
   ]
  },
  {
   "cell_type": "code",
   "execution_count": null,
   "metadata": {},
   "outputs": [],
   "source": [
    "from nltk.tokenize import word_tokenize"
   ]
  },
  {
   "cell_type": "code",
   "execution_count": null,
   "metadata": {},
   "outputs": [],
   "source": [
    "prop_tokenized = word_tokenize(prop_six_four)"
   ]
  },
  {
   "cell_type": "code",
   "execution_count": null,
   "metadata": {},
   "outputs": [],
   "source": [
    "help(word_tokenize)"
   ]
  },
  {
   "cell_type": "code",
   "execution_count": null,
   "metadata": {},
   "outputs": [],
   "source": [
    "print(prop_tokenized)"
   ]
  },
  {
   "cell_type": "code",
   "execution_count": null,
   "metadata": {},
   "outputs": [],
   "source": []
  }
 ],
 "metadata": {
  "kernelspec": {
   "display_name": "Python 3",
   "language": "python",
   "name": "python3"
  },
  "language_info": {
   "codemirror_mode": {
    "name": "ipython",
    "version": 3
   },
   "file_extension": ".py",
   "mimetype": "text/x-python",
   "name": "python",
   "nbconvert_exporter": "python",
   "pygments_lexer": "ipython3",
   "version": "3.7.4"
  }
 },
 "nbformat": 4,
 "nbformat_minor": 2
}
